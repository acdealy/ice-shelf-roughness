{
 "cells": [
  {
   "cell_type": "code",
   "execution_count": null,
   "id": "00f2b8f3",
   "metadata": {},
   "outputs": [],
   "source": [
    "#must be in sliderule-friendly environment\n",
    "from sliderule import icesat2\n",
    "import geopandas as gpd\n",
    "import pickle"
   ]
  },
  {
   "cell_type": "code",
   "execution_count": null,
   "id": "2baac2b7",
   "metadata": {},
   "outputs": [],
   "source": [
    "#define function to retrieve atl06 data from sliderule with geojson file and time bounds\n",
    "def getdata(file,t0,t1):\n",
    "    print(\"If you haven't, go update sliderule:\\nconda activate sliderule-forge\\nconda update sliderule\")\n",
    "    icesat2.init(\"icesat2sliderule.org\", verbose=False)\n",
    "    icesat2.set_max_resources(6249)\n",
    "    poly_fn = '/home/acdealy/notebooks/ice-shelf-roughness/' + file    \n",
    "    region = icesat2.toregion(poly_fn)\n",
    "    parms = {\n",
    "        \"poly\": region[\"poly\"],\n",
    "        \"srt\": icesat2.SRT_LAND,\n",
    "        \"cnf\": icesat2.CNF_SURFACE_HIGH,\n",
    "        \"ats\": 20.0, #10.0\n",
    "        \"cnt\": 10,\n",
    "        \"len\": 40.0,\n",
    "        \"res\": 20.0,\n",
    "        \"maxi\": 6, #1\n",
    "        \"t0\": t0,\n",
    "        \"t1\": t1\n",
    "    }\n",
    "    atl06_data = icesat2.atl06p(parms)\n",
    "    return atl06_data, region"
   ]
  },
  {
   "cell_type": "code",
   "execution_count": null,
   "id": "7c360fb5",
   "metadata": {},
   "outputs": [],
   "source": [
    "#download pig data\n",
    "atl06_pig,region_pig = getdata('pig.geojson','2021-01-01T00:00:00Z','2021-09-01T00:00:00Z')\n",
    "\n",
    "with open('/home/acdealy/notebooks/ice-shelf-roughness/sliderule_pig.pickle', 'wb') as handle:\n",
    "    pickle.dump(atl06_pig, handle, protocol=pickle.HIGHEST_PROTOCOL)"
   ]
  },
  {
   "cell_type": "code",
   "execution_count": null,
   "id": "7edf0dc7",
   "metadata": {},
   "outputs": [],
   "source": [
    "#download ross data\n",
    "atl06_ross,region_ross = getdata('ross.geojson')\n",
    "\n",
    "with open('/home/acdealy/notebooks/ice-shelf-roughness/sliderule_ross.pickle', 'wb') as handle:\n",
    "    pickle.dump(atl06_ross, handle, protocol=pickle.HIGHEST_PROTOCOL)"
   ]
  },
  {
   "cell_type": "code",
   "execution_count": null,
   "id": "b34dd468",
   "metadata": {},
   "outputs": [],
   "source": [
    "#download conger data\n",
    "atl06_conger,region_conger = getdata('conger3.geojson','2018-01-01T00:00:00Z','2022-11-01T00:00:00Z')\n",
    "\n",
    "with open('/home/acdealy/notebooks/ice-shelf-roughness/sliderule_conger.pickle', 'wb') as handle:\n",
    "    pickle.dump(atl06_conger, handle, protocol=pickle.HIGHEST_PROTOCOL)"
   ]
  },
  {
   "cell_type": "code",
   "execution_count": null,
   "id": "8099f75f",
   "metadata": {},
   "outputs": [],
   "source": [
    "#download pig data with mask\n",
    "atl06_pig,region_pig = getdata('pig_mask.geojson','2017-01-01T00:00:00Z','2022-09-01T00:00:00Z')\n",
    "\n",
    "with open('/home/acdealy/notebooks/ice-shelf-roughness/sliderule_pig_mask.pickle', 'wb') as handle:\n",
    "    pickle.dump(atl06_pig, handle, protocol=pickle.HIGHEST_PROTOCOL)"
   ]
  },
  {
   "cell_type": "code",
   "execution_count": null,
   "id": "8786301f",
   "metadata": {},
   "outputs": [],
   "source": [
    "#download pig north shear margin data\n",
    "atl06_pig,region_pig = getdata('pig_north_shear.geojson','2017-01-01T00:00:00Z','2022-09-01T00:00:00Z')\n",
    "\n",
    "with open('/home/acdealy/notebooks/ice-shelf-roughness/pig_north_shear.pickle', 'wb') as handle:\n",
    "    pickle.dump(atl06_pig, handle, protocol=pickle.HIGHEST_PROTOCOL)"
   ]
  },
  {
   "cell_type": "code",
   "execution_count": null,
   "id": "699f8e36",
   "metadata": {},
   "outputs": [],
   "source": [
    "#download pig south shear margin data\n",
    "atl06_pig,region_pig = getdata('pig_south_shear.geojson','2017-01-01T00:00:00Z','2022-09-01T00:00:00Z')\n",
    "\n",
    "with open('/home/acdealy/notebooks/ice-shelf-roughness/pig_south_shear.pickle', 'wb') as handle:\n",
    "    pickle.dump(atl06_pig, handle, protocol=pickle.HIGHEST_PROTOCOL)"
   ]
  },
  {
   "cell_type": "code",
   "execution_count": null,
   "id": "72632a63",
   "metadata": {},
   "outputs": [],
   "source": [
    "#download pig front data\n",
    "atl06_pig,region_pig = getdata('pig_front.geojson','2017-01-01T00:00:00Z','2022-09-01T00:00:00Z')\n",
    "\n",
    "with open('/home/acdealy/notebooks/ice-shelf-roughness/pig_front.pickle', 'wb') as handle:\n",
    "    pickle.dump(atl06_pig, handle, protocol=pickle.HIGHEST_PROTOCOL)"
   ]
  },
  {
   "cell_type": "code",
   "execution_count": null,
   "id": "02533e39",
   "metadata": {},
   "outputs": [],
   "source": [
    "# read shapefiles into geopandas\n",
    "shapefile_ids = ['A20170127','A20190211','A20210131', 'A20180215', 'A20200113','A20220109']\n",
    "shapefile_ids.sort()\n",
    "dates = []\n",
    "shapefiles = []\n",
    "for shapefile_id in shapefile_ids:\n",
    "    date = shapefile_id[1:5] + '-' + shapefile_id[5:7] + '-' + shapefile_id[7:9] + 'T00:00:00Z'\n",
    "    dates.append(date)\n",
    "    shapefile = gpd.read_file('/home/acdealy/notebooks/ice-shelf-roughness/shapefile/'+shapefile_id)\n",
    "    shapefiles.append(shapefile)\n",
    "    shapefile.to_file('conger_'+date+'.geojson', driver='GeoJSON') \n",
    "dates.append('2023-01-01T00:00:00Z')"
   ]
  },
  {
   "cell_type": "code",
   "execution_count": null,
   "id": "c8c589d9",
   "metadata": {},
   "outputs": [],
   "source": [
    "#download conger data with masks through time\n",
    "for i in range(len(dates)-1):\n",
    "    geojson_handle = 'conger_'+dates[i]+'.geojson'\n",
    "    atl06_conger,region_conger = getdata(geojson_handle,dates[i],dates[i+1])\n",
    "    with open('/home/acdealy/notebooks/ice-shelf-roughness/sliderule_conger_'+dates[i]+'-'+dates[i+1]+'.pickle', 'wb') as handle:\n",
    "        pickle.dump(atl06_conger, handle, protocol=pickle.HIGHEST_PROTOCOL)"
   ]
  },
  {
   "cell_type": "code",
   "execution_count": null,
   "id": "94193294",
   "metadata": {},
   "outputs": [],
   "source": [
    "#download pig data with large mask\n",
    "atl06_pig,region_pig = getdata('pig_big_mask.geojson','2018-01-01T00:00:00Z','2021-09-01T00:00:00Z')\n",
    "\n",
    "with open('/home/acdealy/notebooks/ice-shelf-roughness/sliderule_pig_big.pickle', 'wb') as handle:\n",
    "    pickle.dump(atl06_pig, handle, protocol=pickle.HIGHEST_PROTOCOL)"
   ]
  }
 ],
 "metadata": {
  "kernelspec": {
   "display_name": "sliderule",
   "language": "python",
   "name": "sliderule"
  },
  "language_info": {
   "codemirror_mode": {
    "name": "ipython",
    "version": 3
   },
   "file_extension": ".py",
   "mimetype": "text/x-python",
   "name": "python",
   "nbconvert_exporter": "python",
   "pygments_lexer": "ipython3",
   "version": "3.11.4"
  }
 },
 "nbformat": 4,
 "nbformat_minor": 5
}
